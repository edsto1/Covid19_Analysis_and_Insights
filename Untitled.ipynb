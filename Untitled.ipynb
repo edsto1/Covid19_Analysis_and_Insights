{
 "cells": [
  {
   "cell_type": "code",
   "execution_count": 6,
   "metadata": {},
   "outputs": [
    {
     "data": {
      "application/vnd.jupyter.widget-view+json": {
       "model_id": "4526b1e228694772813a8f6a3f28e04b",
       "version_major": 2,
       "version_minor": 0
      },
      "text/plain": [
       "VBox(children=(Text(value='', disabled=True, layout=Layout(width='190px'), placeholder='0'), HBox(children=(Bu…"
      ]
     },
     "metadata": {},
     "output_type": "display_data"
    }
   ],
   "source": [
    "from __future__ import print_function\n",
    "from setuptools import setup\n",
    "from os import path\n",
    "import re\n",
    "\n",
    "\n",
    "def find_version():\n",
    "    here = path.abspath(path.dirname(__file__))\n",
    "    absfn = path.join(here, 'appmode/__init__.py')\n",
    "    content = open(absfn).read()\n",
    "    match = re.search(r\"\\n__version__ = ['\\\"]([^'\\\"]+)['\\\"]\", content)\n",
    "    return match.group(1)\n",
    "\n",
    "\n",
    "setup(\n",
    "    name='appmode',\n",
    "    license='MIT',\n",
    "    version = find_version(),\n",
    "    author = 'Ole Schuett',\n",
    "    author_email = 'ole.schuett@cp2k.org',\n",
    "    url='http://github.com/oschuett/appmode',\n",
    "    description='A Jupyter extensions that turns notebooks into web applications.',\n",
    "\n",
    "    packages=[\"appmode\"],\n",
    "    include_package_data = True,\n",
    "    install_requires=['notebook>=5'],\n",
    "    data_files=[('share/jupyter/nbextensions/appmode', [\n",
    "                    'appmode/static/main.js',\n",
    "                    'appmode/static/gears.svg'\n",
    "    ])],\n",
    "\n",
    "    classifiers=[\n",
    "        \"Programming Language :: Python :: 2\",\n",
    "        \"Programming Language :: Python :: 2.7\",\n",
    "        \"Programming Language :: Python :: 3\",\n",
    "        \"Programming Language :: Python :: 3.5\",\n",
    "        \"License :: OSI Approved :: MIT License\",\n",
    "        \"Operating System :: OS Independent\",\n",
    "    ],\n",
    "\n",
    ")\n",
    "\n",
    "print(\"\\nPlease run the following commands to enable appmode:\")\n",
    "print(\"  jupyter serverextension enable --py --sys-prefix appmode\")\n",
    "print(\"  jupyter nbextension     enable --py --sys-prefix appmode\")\n",
    "\n",
    "#EOF"
   ]
  },
  {
   "cell_type": "code",
   "execution_count": 7,
   "metadata": {},
   "outputs": [],
   "source": [
    "# Jupyter Extension points\n",
    "def _jupyter_nbextension_paths():\n",
    "    return [dict(\n",
    "        section=\"notebook\",\n",
    "        src=\"static\",\n",
    "        dest=\"appmode\",\n",
    "        require=\"appmode/main\")]\n",
    "\n",
    "def _jupyter_server_extension_paths():\n",
    "    return [{\"module\":\"appmode.server_extension\"}]\n",
    "\n",
    "#EOF"
   ]
  },
  {
   "cell_type": "code",
   "execution_count": null,
   "metadata": {},
   "outputs": [],
   "source": []
  }
 ],
 "metadata": {
  "kernelspec": {
   "display_name": "Python 3",
   "language": "python",
   "name": "python3"
  },
  "language_info": {
   "codemirror_mode": {
    "name": "ipython",
    "version": 3
   },
   "file_extension": ".py",
   "mimetype": "text/x-python",
   "name": "python",
   "nbconvert_exporter": "python",
   "pygments_lexer": "ipython3",
   "version": "3.7.1"
  }
 },
 "nbformat": 4,
 "nbformat_minor": 2
}
