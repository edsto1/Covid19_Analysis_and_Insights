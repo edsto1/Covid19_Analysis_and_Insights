{
 "cells": [
  {
   "cell_type": "code",
   "execution_count": 1,
   "metadata": {},
   "outputs": [],
   "source": [
    "import tensorflow as tf\n",
    "import numpy as np\n",
    "import pandas as pd\n",
    "from sklearn.preprocessing import LabelEncoder, OneHotEncoder, StandardScaler, MultiLabelBinarizer\n",
    "from sklearn.compose import ColumnTransformer\n",
    "from sklearn.model_selection import train_test_split\n",
    "import re\n",
    "import time\n",
    "from sklearn.linear_model import LinearRegression\n",
    "from fancyimpute import IterativeImputer\n",
    "from sklearn.neighbors import NearestNeighbors\n",
    "from sklearn.impute import KNNImputer\n",
    "from sklearn.metrics import confusion_matrix, accuracy_score\n",
    "import appmode\n",
    "from keras.models import model_from_json\n",
    "from IPython.display import display, Markdown"
   ]
  },
  {
   "cell_type": "code",
   "execution_count": 2,
   "metadata": {},
   "outputs": [],
   "source": [
    "symptom_cd_dummies = pd.read_csv('symptom_cd_dummies.csv')\n",
    "del symptom_cd_dummies['Unnamed: 0']\n",
    "#symptom_cd_dummies"
   ]
  },
  {
   "cell_type": "code",
   "execution_count": 3,
   "metadata": {},
   "outputs": [],
   "source": [
    "#DATA PREPROCESSING"
   ]
  },
  {
   "cell_type": "code",
   "execution_count": 4,
   "metadata": {},
   "outputs": [],
   "source": [
    "#CHANGE VALUES IN THE gender COLUMN TO BINARY SO IT CAN BE USED IN LINEAR REG TO PREDICT MISSING AGE VALUES\n",
    "#maleFemale = {'male': 1, 'female': 0}\n",
    "#symptom_cd_dummies.gender = [maleFemale[item] for item in symptom_cd_dummies.gender]"
   ]
  },
  {
   "cell_type": "code",
   "execution_count": 5,
   "metadata": {
    "scrolled": true
   },
   "outputs": [],
   "source": [
    "x = symptom_cd_dummies.iloc[:, :-1].values\n",
    "y = symptom_cd_dummies.iloc[:, -1].values\n",
    "\n",
    "#LABEL ENCODE THE GENDER COLUMN\n",
    "le = LabelEncoder()\n",
    "x[:, 1] = le.fit_transform(x[:, 1])\n",
    "#x[:,0]"
   ]
  },
  {
   "cell_type": "code",
   "execution_count": 6,
   "metadata": {},
   "outputs": [],
   "source": [
    "#IMPUTE MISSING VALUES IN THE AGE COLUMN\n",
    "imputer = KNNImputer(n_neighbors=2)\n",
    "\n",
    "x = imputer.fit_transform(x)"
   ]
  },
  {
   "cell_type": "code",
   "execution_count": 7,
   "metadata": {},
   "outputs": [],
   "source": [
    "#SPLIT TRAIN AND TEST SET"
   ]
  },
  {
   "cell_type": "code",
   "execution_count": 8,
   "metadata": {},
   "outputs": [],
   "source": [
    "x_train, x_test, y_train, y_test = train_test_split(x, y, test_size = 0.2, random_state = 0)"
   ]
  },
  {
   "cell_type": "code",
   "execution_count": 9,
   "metadata": {},
   "outputs": [],
   "source": [
    "#FEATURE SCALING"
   ]
  },
  {
   "cell_type": "code",
   "execution_count": 10,
   "metadata": {},
   "outputs": [],
   "source": [
    "sc = StandardScaler()\n",
    "x_train = sc.fit_transform(x_train)\n",
    "x_test = sc.transform(x_test)"
   ]
  },
  {
   "cell_type": "code",
   "execution_count": 11,
   "metadata": {},
   "outputs": [],
   "source": [
    "#LOAD SAVED MODEL"
   ]
  },
  {
   "cell_type": "code",
   "execution_count": 12,
   "metadata": {},
   "outputs": [],
   "source": [
    "#LOAD JSON AND CREATE MODEL\n",
    "json_file = open('model.json', 'r')\n",
    "loaded_model_from_json = json_file.read()\n",
    "json_file.close()\n",
    "loaded_model = model_from_json(loaded_model_from_json)\n",
    "\n",
    "#LOAD WEIGHTS INTO NEW MODEL\n",
    "loaded_model.load_weights(\"model.h5\")\n",
    "\n",
    "#EVALUATE LOADED MODEL ON TEST DATA\n",
    "loaded_model.compile(loss='binary_crossentropy', optimizer='adam', metrics=['accuracy'])\n",
    "\n",
    "y_pred = loaded_model.predict(x_test)\n",
    "y_pred = (y_pred > 0.5)\n",
    "compare = pd.DataFrame(np.concatenate((y_pred.reshape(len(y_pred),1), y_test.reshape(len(y_test),1)),1))\n",
    "#compare.head()"
   ]
  },
  {
   "cell_type": "code",
   "execution_count": 13,
   "metadata": {},
   "outputs": [
    {
     "name": "stdout",
     "output_type": "stream",
     "text": [
      "Current Accuracy: 0.8372093023255814\n"
     ]
    }
   ],
   "source": [
    "#CONFUSION MATRIX\n",
    "cm = confusion_matrix(y_test, y_pred)\n",
    "#print(cm)\n",
    "print(f\"Current Accuracy: {accuracy_score(y_test, y_pred)}\")\n"
   ]
  },
  {
   "cell_type": "markdown",
   "metadata": {},
   "source": [
    "## Making a single prediction:"
   ]
  },
  {
   "cell_type": "code",
   "execution_count": 17,
   "metadata": {},
   "outputs": [
    {
     "data": {
      "text/markdown": [
       "### Demographics:"
      ],
      "text/plain": [
       "<IPython.core.display.Markdown object>"
      ]
     },
     "metadata": {},
     "output_type": "display_data"
    },
    {
     "name": "stdout",
     "output_type": "stream",
     "text": [
      "PROMPT 1: What is the patient's age? \n",
      "-\n",
      "34\n",
      "\n",
      "PROMPT 2: What is the patient's sex? (write 'male' or 'female')\n",
      "-\n",
      "male\n"
     ]
    },
    {
     "data": {
      "text/markdown": [
       "### Health Profile:"
      ],
      "text/plain": [
       "<IPython.core.display.Markdown object>"
      ]
     },
     "metadata": {},
     "output_type": "display_data"
    },
    {
     "data": {
      "text/markdown": [
       "#### Symptoms:"
      ],
      "text/plain": [
       "<IPython.core.display.Markdown object>"
      ]
     },
     "metadata": {},
     "output_type": "display_data"
    },
    {
     "name": "stdout",
     "output_type": "stream",
     "text": [
      "2. acute respiratory distress   3. asymptomatic   4. cold chills   5. cough\n",
      "6.     diarrhea   7. fatigue   8. fever.  9.headache.  10. malaise\n",
      "11. muscle soreness   12. pneumonia   13. runny nose   14. septic shock   15. shortness of breath\n",
      "16. sore throat\n"
     ]
    },
    {
     "data": {
      "text/markdown": [
       "#### Pre-existing Conditions:"
      ],
      "text/plain": [
       "<IPython.core.display.Markdown object>"
      ]
     },
     "metadata": {},
     "output_type": "display_data"
    },
    {
     "name": "stdout",
     "output_type": "stream",
     "text": [
      "17. tuberculosis   18.COPD   19.asthma   20. atherosclerosis   21. Cancer   22. cerebrovascular disease\n",
      "23. chronic bronchitis  24. diabetes   25. dyslipidemia   26. enlarged prostate   27. heart disease\n",
      "28. Hepatitis B   29. hypertension   30. kidney disease.  31. none   32. parkinson's disease.  33. thyroid disease\n",
      "\n",
      "\n",
      "PROMPT 3: Enter the number next to the patient's corresponding symptoms, and/or pre-existing conditions as listed, \n",
      "separated by a space:\n",
      "\n",
      "2 3\n",
      "\u001b[4m\n",
      "Predicted probability of mortality:\u001b[0m\n",
      "0.67802465\n",
      "\u001b[1m68.0 %\n",
      "\u001b[0m\n",
      "\u001b[4mFatal infection prediction:\u001b[0m\n",
      "\u001b[1mTrue\u001b[0m\n",
      "Our model predicts that a fatal infection is likely for this patient\n",
      "\u001b[91mHIGH RISK\u001b[0m\n",
      "\n",
      "Enter new patient info? (y/n): n\n",
      "Thank you.\n"
     ]
    }
   ],
   "source": [
    "#INITIALIZE LIST TO HOLD MATRIX OF FEATURES\n",
    "mylist = list(range(34))\n",
    "\n",
    "\n",
    "\n",
    "class color:\n",
    "   BOLD = '\\033[1m'\n",
    "   RED = '\\033[91m'\n",
    "   GREEN = '\\033[92m'\n",
    "   UNDERLINE = '\\033[4m'\n",
    "   END = '\\033[0m'\n",
    "\n",
    "\n",
    "while True:\n",
    "    \n",
    "    try:\n",
    "        #INPUT PATIENT AGE AND GENDER\n",
    "        display(Markdown(\"### Demographics:\"))\n",
    "        age = int(input(\"PROMPT 1: What is the patient's age? \\n-\\n\"))\n",
    "    except ValueError:\n",
    "        print('invalid input, please enter a number.')\n",
    "        continue\n",
    "    else:\n",
    "        \n",
    "        while True:\n",
    "            gender = input(\"\\nPROMPT 2: What is the patient's sex? (write 'male' or 'female')\\n-\\n\")\n",
    "            genderNum = 1 if gender=='male' or gender=='Male' else 0\n",
    "\n",
    "            if gender not in ('male', 'female', 'Male', 'Female'):\n",
    "                print('invalid input, please write \"male\" or \"female\".')\n",
    "                continue\n",
    "            else:\n",
    "                \n",
    "                while True:\n",
    "                    #PROMPT USER INPUT OF SYMPTOMS\n",
    "                    display(Markdown(\"### Health Profile:\"))\n",
    "                    display(Markdown(\"#### Symptoms:\"))\n",
    "                    print(\"2. acute respiratory distress   3. asymptomatic   4. cold chills   5. cough\\n6.     diarrhea   7. fatigue   8. fever.  9.headache.  10. malaise\\n11. muscle soreness   12. pneumonia   13. runny nose   14. septic shock   15. shortness of breath\\n16. sore throat\")\n",
    "                    #PROMPT USER INPUT OF PRE-EXISTING CONDITIONS\n",
    "                    display(Markdown(\"#### Pre-existing Conditions:\"))\n",
    "                    print(\"17. tuberculosis   18.COPD   19.asthma   20. atherosclerosis   21. Cancer   22. cerebrovascular disease\\n23. chronic bronchitis  24. diabetes   25. dyslipidemia   26. enlarged prostate   27. heart disease\\n28. Hepatitis B   29. hypertension   30. kidney disease.  31. none   32. parkinson's disease.  33. thyroid disease\\n\")\n",
    "                    try:\n",
    "                        time.sleep(.05)\n",
    "                        symptoms = list(map(int,input(\"\\nPROMPT 3: Enter the number next to the patient's corresponding symptoms, and/or pre-existing conditions as listed, \\nseparated by a space:\\n\\n\").split()))\n",
    "                        mylist2 = [1 if int(el)==int(el) in symptoms else 0 for el in mylist]\n",
    "                        \n",
    "                        \n",
    "                    except ValueError:\n",
    "                        print('invalid, please enter a number')\n",
    "                        continue\n",
    "                    else:\n",
    "                        \n",
    "                        mylist2[0] = age\n",
    "                        mylist2[1] = genderNum\n",
    "\n",
    "                        #RETURN THE PROBABILITY PREDICTION\n",
    "                        probability = loaded_model.predict(sc.transform([mylist2]))\n",
    "                        probabilityPercent = probability.round(2)\n",
    "\n",
    "                        #RETURN THE PREDICTION IN FORM OF TRUE/FALSE\n",
    "                        hardPrediction = probability>0.5\n",
    "\n",
    "                        #RETURN THE 'TRUE/FALSE' VALUE OF 'hardPredction' WITHOUT THE BRACKETS\n",
    "                        hardPrediction = ''.join(map(str, hardPrediction[0]))\n",
    "\n",
    "                        print(color.UNDERLINE + \"\\nPredicted probability of mortality:\" + color.END)\n",
    "                        print(*probability[0])\n",
    "                        print(color.BOLD + \"{0} %\\n\".format(*probabilityPercent[0]*100) + color.END)\n",
    "                        print(color.UNDERLINE + \"Fatal infection prediction:\" + color.END)\n",
    "\n",
    "                        if (probability > 0.5):\n",
    "                            print(color.BOLD + hardPrediction + color.END)\n",
    "                            print(\"Our model predicts that a fatal infection is likely for this patient\")\n",
    "                            print(color.RED + \"HIGH RISK\" + color.END)\n",
    "                        else:\n",
    "                            print(color.BOLD + hardPrediction + color.END)\n",
    "                            print(\"Our model predicts that a fatal infection is not likely for this patient\")\n",
    "                            print(color.GREEN + \"LOW RISK\" + color.END)\n",
    "                        break\n",
    "                break\n",
    "                    \n",
    "    again = input('\\nEnter new patient info? (y/n): ')\n",
    "    if again not in ('y', 'n', 'Y', 'N', 'Yes', 'yes', 'No', 'no'):\n",
    "        print('Invalid input, please type \"y\" or \"n\".')\n",
    "        continue\n",
    "    elif again == 'y':\n",
    "        continue\n",
    "    else:\n",
    "        print('Thank you.')\n",
    "        break\n",
    "    break"
   ]
  },
  {
   "cell_type": "code",
   "execution_count": 15,
   "metadata": {},
   "outputs": [],
   "source": [
    "# import os\n",
    "# from notebook.services.config import ConfigManager\n",
    "\n",
    "# for p in ConfigManager().read_config_path:\n",
    "#     conf_path = os.path.join(p, 'notebook.json')\n",
    "#     if os.path.exists(conf_path):\n",
    "#         print(conf_path)"
   ]
  },
  {
   "cell_type": "code",
   "execution_count": 16,
   "metadata": {},
   "outputs": [
    {
     "name": "stdout",
     "output_type": "stream",
     "text": [
      "please input:\n",
      "gi\n"
     ]
    },
    {
     "data": {
      "text/html": [
       "<div>\n",
       "<style scoped>\n",
       "    .dataframe tbody tr th:only-of-type {\n",
       "        vertical-align: middle;\n",
       "    }\n",
       "\n",
       "    .dataframe tbody tr th {\n",
       "        vertical-align: top;\n",
       "    }\n",
       "\n",
       "    .dataframe thead th {\n",
       "        text-align: right;\n",
       "    }\n",
       "</style>\n",
       "<table border=\"1\" class=\"dataframe\">\n",
       "  <thead>\n",
       "    <tr style=\"text-align: right;\">\n",
       "      <th></th>\n",
       "      <th>a</th>\n",
       "      <th>b</th>\n",
       "    </tr>\n",
       "  </thead>\n",
       "  <tbody>\n",
       "    <tr>\n",
       "      <th>0</th>\n",
       "      <td>1</td>\n",
       "      <td>3</td>\n",
       "    </tr>\n",
       "    <tr>\n",
       "      <th>1</th>\n",
       "      <td>2</td>\n",
       "      <td>4</td>\n",
       "    </tr>\n",
       "  </tbody>\n",
       "</table>\n",
       "</div>"
      ],
      "text/plain": [
       "   a  b\n",
       "0  1  3\n",
       "1  2  4"
      ]
     },
     "metadata": {},
     "output_type": "display_data"
    },
    {
     "name": "stdout",
     "output_type": "stream",
     "text": [
      "gi\n"
     ]
    },
    {
     "ename": "KeyboardInterrupt",
     "evalue": "Interrupted by user",
     "output_type": "error",
     "traceback": [
      "\u001b[0;31m---------------------------------------------------------------------------\u001b[0m",
      "\u001b[0;31mKeyboardInterrupt\u001b[0m                         Traceback (most recent call last)",
      "\u001b[0;32m<ipython-input-16-37e35b45dbca>\u001b[0m in \u001b[0;36m<module>\u001b[0;34m\u001b[0m\n\u001b[1;32m      1\u001b[0m \u001b[0mdf\u001b[0m \u001b[0;34m=\u001b[0m \u001b[0mpd\u001b[0m\u001b[0;34m.\u001b[0m\u001b[0mDataFrame\u001b[0m\u001b[0;34m(\u001b[0m\u001b[0;34m{\u001b[0m\u001b[0;34m'a'\u001b[0m\u001b[0;34m:\u001b[0m\u001b[0;34m[\u001b[0m\u001b[0;36m1\u001b[0m\u001b[0;34m,\u001b[0m\u001b[0;36m2\u001b[0m\u001b[0;34m]\u001b[0m\u001b[0;34m,\u001b[0m\u001b[0;34m'b'\u001b[0m\u001b[0;34m:\u001b[0m\u001b[0;34m[\u001b[0m\u001b[0;36m3\u001b[0m\u001b[0;34m,\u001b[0m\u001b[0;36m4\u001b[0m\u001b[0;34m]\u001b[0m\u001b[0;34m}\u001b[0m\u001b[0;34m)\u001b[0m\u001b[0;34m\u001b[0m\u001b[0;34m\u001b[0m\u001b[0m\n\u001b[1;32m      2\u001b[0m \u001b[0;32mwhile\u001b[0m\u001b[0;34m(\u001b[0m\u001b[0;32mTrue\u001b[0m\u001b[0;34m)\u001b[0m\u001b[0;34m:\u001b[0m\u001b[0;34m\u001b[0m\u001b[0;34m\u001b[0m\u001b[0m\n\u001b[0;32m----> 3\u001b[0;31m     \u001b[0ma\u001b[0m \u001b[0;34m=\u001b[0m \u001b[0minput\u001b[0m\u001b[0;34m(\u001b[0m\u001b[0;34m\"please input:\\n\"\u001b[0m\u001b[0;34m)\u001b[0m\u001b[0;34m\u001b[0m\u001b[0;34m\u001b[0m\u001b[0m\n\u001b[0m\u001b[1;32m      4\u001b[0m     \u001b[0mdisplay\u001b[0m\u001b[0;34m(\u001b[0m\u001b[0mdf\u001b[0m\u001b[0;34m.\u001b[0m\u001b[0mhead\u001b[0m\u001b[0;34m(\u001b[0m\u001b[0;34m)\u001b[0m\u001b[0;34m)\u001b[0m\u001b[0;34m\u001b[0m\u001b[0;34m\u001b[0m\u001b[0m\n\u001b[1;32m      5\u001b[0m     \u001b[0mprint\u001b[0m \u001b[0;34m(\u001b[0m\u001b[0ma\u001b[0m\u001b[0;34m)\u001b[0m\u001b[0;34m\u001b[0m\u001b[0;34m\u001b[0m\u001b[0m\n",
      "\u001b[0;32m~/anaconda3/lib/python3.7/site-packages/ipykernel/kernelbase.py\u001b[0m in \u001b[0;36mraw_input\u001b[0;34m(self, prompt)\u001b[0m\n\u001b[1;32m    861\u001b[0m             \u001b[0mself\u001b[0m\u001b[0;34m.\u001b[0m\u001b[0m_parent_ident\u001b[0m\u001b[0;34m,\u001b[0m\u001b[0;34m\u001b[0m\u001b[0;34m\u001b[0m\u001b[0m\n\u001b[1;32m    862\u001b[0m             \u001b[0mself\u001b[0m\u001b[0;34m.\u001b[0m\u001b[0m_parent_header\u001b[0m\u001b[0;34m,\u001b[0m\u001b[0;34m\u001b[0m\u001b[0;34m\u001b[0m\u001b[0m\n\u001b[0;32m--> 863\u001b[0;31m             \u001b[0mpassword\u001b[0m\u001b[0;34m=\u001b[0m\u001b[0;32mFalse\u001b[0m\u001b[0;34m,\u001b[0m\u001b[0;34m\u001b[0m\u001b[0;34m\u001b[0m\u001b[0m\n\u001b[0m\u001b[1;32m    864\u001b[0m         )\n\u001b[1;32m    865\u001b[0m \u001b[0;34m\u001b[0m\u001b[0m\n",
      "\u001b[0;32m~/anaconda3/lib/python3.7/site-packages/ipykernel/kernelbase.py\u001b[0m in \u001b[0;36m_input_request\u001b[0;34m(self, prompt, ident, parent, password)\u001b[0m\n\u001b[1;32m    902\u001b[0m             \u001b[0;32mexcept\u001b[0m \u001b[0mKeyboardInterrupt\u001b[0m\u001b[0;34m:\u001b[0m\u001b[0;34m\u001b[0m\u001b[0;34m\u001b[0m\u001b[0m\n\u001b[1;32m    903\u001b[0m                 \u001b[0;31m# re-raise KeyboardInterrupt, to truncate traceback\u001b[0m\u001b[0;34m\u001b[0m\u001b[0;34m\u001b[0m\u001b[0;34m\u001b[0m\u001b[0m\n\u001b[0;32m--> 904\u001b[0;31m                 \u001b[0;32mraise\u001b[0m \u001b[0mKeyboardInterrupt\u001b[0m\u001b[0;34m(\u001b[0m\u001b[0;34m\"Interrupted by user\"\u001b[0m\u001b[0;34m)\u001b[0m \u001b[0;32mfrom\u001b[0m \u001b[0;32mNone\u001b[0m\u001b[0;34m\u001b[0m\u001b[0;34m\u001b[0m\u001b[0m\n\u001b[0m\u001b[1;32m    905\u001b[0m             \u001b[0;32mexcept\u001b[0m \u001b[0mException\u001b[0m \u001b[0;32mas\u001b[0m \u001b[0me\u001b[0m\u001b[0;34m:\u001b[0m\u001b[0;34m\u001b[0m\u001b[0;34m\u001b[0m\u001b[0m\n\u001b[1;32m    906\u001b[0m                 \u001b[0mself\u001b[0m\u001b[0;34m.\u001b[0m\u001b[0mlog\u001b[0m\u001b[0;34m.\u001b[0m\u001b[0mwarning\u001b[0m\u001b[0;34m(\u001b[0m\u001b[0;34m\"Invalid Message:\"\u001b[0m\u001b[0;34m,\u001b[0m \u001b[0mexc_info\u001b[0m\u001b[0;34m=\u001b[0m\u001b[0;32mTrue\u001b[0m\u001b[0;34m)\u001b[0m\u001b[0;34m\u001b[0m\u001b[0;34m\u001b[0m\u001b[0m\n",
      "\u001b[0;31mKeyboardInterrupt\u001b[0m: Interrupted by user"
     ]
    }
   ],
   "source": [
    "df = pd.DataFrame({'a':[1,2],'b':[3,4]})\n",
    "while(True):\n",
    "    a = input(\"please input:\\n\")\n",
    "    display(df.head())\n",
    "    print (a)\n",
    "    time.sleep(.02)"
   ]
  },
  {
   "cell_type": "code",
   "execution_count": null,
   "metadata": {},
   "outputs": [],
   "source": []
  }
 ],
 "metadata": {
  "kernelspec": {
   "display_name": "Python 3",
   "language": "python",
   "name": "python3"
  },
  "language_info": {
   "codemirror_mode": {
    "name": "ipython",
    "version": 3
   },
   "file_extension": ".py",
   "mimetype": "text/x-python",
   "name": "python",
   "nbconvert_exporter": "python",
   "pygments_lexer": "ipython3",
   "version": "3.7.1"
  }
 },
 "nbformat": 4,
 "nbformat_minor": 2
}
