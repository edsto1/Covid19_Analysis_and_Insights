{
 "cells": [
  {
   "cell_type": "code",
   "execution_count": 1,
   "metadata": {},
   "outputs": [],
   "source": [
    "import tensorflow as tf\n",
    "import numpy as np\n",
    "import pandas as pd\n",
    "from sklearn.preprocessing import LabelEncoder, OneHotEncoder, StandardScaler, MultiLabelBinarizer\n",
    "from sklearn.compose import ColumnTransformer\n",
    "from sklearn.model_selection import train_test_split\n",
    "import re\n",
    "from sklearn.linear_model import LinearRegression\n",
    "from fancyimpute import IterativeImputer\n",
    "from sklearn.neighbors import NearestNeighbors\n",
    "from sklearn.impute import KNNImputer\n",
    "from sklearn.metrics import confusion_matrix, accuracy_score\n",
    "import appmode\n",
    "from keras.models import model_from_json\n",
    "from IPython.display import display, Markdown"
   ]
  },
  {
   "cell_type": "code",
   "execution_count": 2,
   "metadata": {},
   "outputs": [
    {
     "data": {
      "text/html": [
       "<div>\n",
       "<style scoped>\n",
       "    .dataframe tbody tr th:only-of-type {\n",
       "        vertical-align: middle;\n",
       "    }\n",
       "\n",
       "    .dataframe tbody tr th {\n",
       "        vertical-align: top;\n",
       "    }\n",
       "\n",
       "    .dataframe thead th {\n",
       "        text-align: right;\n",
       "    }\n",
       "</style>\n",
       "<table border=\"1\" class=\"dataframe\">\n",
       "  <thead>\n",
       "    <tr style=\"text-align: right;\">\n",
       "      <th></th>\n",
       "      <th>age</th>\n",
       "      <th>gender</th>\n",
       "      <th>acute respiratory distress</th>\n",
       "      <th>asymptomatic</th>\n",
       "      <th>cold chills</th>\n",
       "      <th>cough</th>\n",
       "      <th>diarrhea</th>\n",
       "      <th>fatigue</th>\n",
       "      <th>fever</th>\n",
       "      <th>headache</th>\n",
       "      <th>...</th>\n",
       "      <th>dyslipidemia</th>\n",
       "      <th>enlarged prostate</th>\n",
       "      <th>heart disease</th>\n",
       "      <th>hepatitis B</th>\n",
       "      <th>hypertension</th>\n",
       "      <th>kidney disease</th>\n",
       "      <th>none</th>\n",
       "      <th>parkinson's disease</th>\n",
       "      <th>thyroid disease</th>\n",
       "      <th>didDie</th>\n",
       "    </tr>\n",
       "  </thead>\n",
       "  <tbody>\n",
       "    <tr>\n",
       "      <th>0</th>\n",
       "      <td>43.0</td>\n",
       "      <td>male</td>\n",
       "      <td>0</td>\n",
       "      <td>1</td>\n",
       "      <td>0</td>\n",
       "      <td>0</td>\n",
       "      <td>0</td>\n",
       "      <td>0</td>\n",
       "      <td>0</td>\n",
       "      <td>0</td>\n",
       "      <td>...</td>\n",
       "      <td>0</td>\n",
       "      <td>0</td>\n",
       "      <td>0</td>\n",
       "      <td>0</td>\n",
       "      <td>0</td>\n",
       "      <td>0</td>\n",
       "      <td>1</td>\n",
       "      <td>0</td>\n",
       "      <td>0</td>\n",
       "      <td>0</td>\n",
       "    </tr>\n",
       "    <tr>\n",
       "      <th>1</th>\n",
       "      <td>48.0</td>\n",
       "      <td>female</td>\n",
       "      <td>0</td>\n",
       "      <td>1</td>\n",
       "      <td>0</td>\n",
       "      <td>0</td>\n",
       "      <td>0</td>\n",
       "      <td>0</td>\n",
       "      <td>0</td>\n",
       "      <td>0</td>\n",
       "      <td>...</td>\n",
       "      <td>0</td>\n",
       "      <td>0</td>\n",
       "      <td>0</td>\n",
       "      <td>0</td>\n",
       "      <td>0</td>\n",
       "      <td>0</td>\n",
       "      <td>1</td>\n",
       "      <td>0</td>\n",
       "      <td>0</td>\n",
       "      <td>0</td>\n",
       "    </tr>\n",
       "    <tr>\n",
       "      <th>2</th>\n",
       "      <td>58.0</td>\n",
       "      <td>female</td>\n",
       "      <td>0</td>\n",
       "      <td>1</td>\n",
       "      <td>0</td>\n",
       "      <td>0</td>\n",
       "      <td>0</td>\n",
       "      <td>0</td>\n",
       "      <td>0</td>\n",
       "      <td>0</td>\n",
       "      <td>...</td>\n",
       "      <td>0</td>\n",
       "      <td>0</td>\n",
       "      <td>0</td>\n",
       "      <td>0</td>\n",
       "      <td>0</td>\n",
       "      <td>0</td>\n",
       "      <td>1</td>\n",
       "      <td>0</td>\n",
       "      <td>0</td>\n",
       "      <td>0</td>\n",
       "    </tr>\n",
       "    <tr>\n",
       "      <th>3</th>\n",
       "      <td>46.0</td>\n",
       "      <td>male</td>\n",
       "      <td>0</td>\n",
       "      <td>0</td>\n",
       "      <td>0</td>\n",
       "      <td>0</td>\n",
       "      <td>0</td>\n",
       "      <td>0</td>\n",
       "      <td>1</td>\n",
       "      <td>0</td>\n",
       "      <td>...</td>\n",
       "      <td>0</td>\n",
       "      <td>0</td>\n",
       "      <td>0</td>\n",
       "      <td>0</td>\n",
       "      <td>0</td>\n",
       "      <td>0</td>\n",
       "      <td>1</td>\n",
       "      <td>0</td>\n",
       "      <td>0</td>\n",
       "      <td>0</td>\n",
       "    </tr>\n",
       "    <tr>\n",
       "      <th>4</th>\n",
       "      <td>70.0</td>\n",
       "      <td>male</td>\n",
       "      <td>0</td>\n",
       "      <td>1</td>\n",
       "      <td>0</td>\n",
       "      <td>0</td>\n",
       "      <td>0</td>\n",
       "      <td>0</td>\n",
       "      <td>0</td>\n",
       "      <td>0</td>\n",
       "      <td>...</td>\n",
       "      <td>0</td>\n",
       "      <td>0</td>\n",
       "      <td>0</td>\n",
       "      <td>0</td>\n",
       "      <td>0</td>\n",
       "      <td>0</td>\n",
       "      <td>1</td>\n",
       "      <td>0</td>\n",
       "      <td>0</td>\n",
       "      <td>0</td>\n",
       "    </tr>\n",
       "    <tr>\n",
       "      <th>...</th>\n",
       "      <td>...</td>\n",
       "      <td>...</td>\n",
       "      <td>...</td>\n",
       "      <td>...</td>\n",
       "      <td>...</td>\n",
       "      <td>...</td>\n",
       "      <td>...</td>\n",
       "      <td>...</td>\n",
       "      <td>...</td>\n",
       "      <td>...</td>\n",
       "      <td>...</td>\n",
       "      <td>...</td>\n",
       "      <td>...</td>\n",
       "      <td>...</td>\n",
       "      <td>...</td>\n",
       "      <td>...</td>\n",
       "      <td>...</td>\n",
       "      <td>...</td>\n",
       "      <td>...</td>\n",
       "      <td>...</td>\n",
       "      <td>...</td>\n",
       "    </tr>\n",
       "    <tr>\n",
       "      <th>637</th>\n",
       "      <td>70.0</td>\n",
       "      <td>male</td>\n",
       "      <td>0</td>\n",
       "      <td>0</td>\n",
       "      <td>0</td>\n",
       "      <td>0</td>\n",
       "      <td>0</td>\n",
       "      <td>0</td>\n",
       "      <td>0</td>\n",
       "      <td>0</td>\n",
       "      <td>...</td>\n",
       "      <td>0</td>\n",
       "      <td>0</td>\n",
       "      <td>0</td>\n",
       "      <td>0</td>\n",
       "      <td>0</td>\n",
       "      <td>0</td>\n",
       "      <td>0</td>\n",
       "      <td>0</td>\n",
       "      <td>0</td>\n",
       "      <td>0</td>\n",
       "    </tr>\n",
       "    <tr>\n",
       "      <th>638</th>\n",
       "      <td>47.0</td>\n",
       "      <td>female</td>\n",
       "      <td>0</td>\n",
       "      <td>1</td>\n",
       "      <td>0</td>\n",
       "      <td>0</td>\n",
       "      <td>0</td>\n",
       "      <td>0</td>\n",
       "      <td>0</td>\n",
       "      <td>0</td>\n",
       "      <td>...</td>\n",
       "      <td>0</td>\n",
       "      <td>0</td>\n",
       "      <td>0</td>\n",
       "      <td>0</td>\n",
       "      <td>0</td>\n",
       "      <td>0</td>\n",
       "      <td>1</td>\n",
       "      <td>0</td>\n",
       "      <td>0</td>\n",
       "      <td>0</td>\n",
       "    </tr>\n",
       "    <tr>\n",
       "      <th>639</th>\n",
       "      <td>65.0</td>\n",
       "      <td>male</td>\n",
       "      <td>1</td>\n",
       "      <td>0</td>\n",
       "      <td>0</td>\n",
       "      <td>0</td>\n",
       "      <td>0</td>\n",
       "      <td>0</td>\n",
       "      <td>0</td>\n",
       "      <td>0</td>\n",
       "      <td>...</td>\n",
       "      <td>0</td>\n",
       "      <td>0</td>\n",
       "      <td>0</td>\n",
       "      <td>0</td>\n",
       "      <td>1</td>\n",
       "      <td>1</td>\n",
       "      <td>0</td>\n",
       "      <td>0</td>\n",
       "      <td>0</td>\n",
       "      <td>1</td>\n",
       "    </tr>\n",
       "    <tr>\n",
       "      <th>640</th>\n",
       "      <td>57.0</td>\n",
       "      <td>male</td>\n",
       "      <td>0</td>\n",
       "      <td>0</td>\n",
       "      <td>0</td>\n",
       "      <td>0</td>\n",
       "      <td>0</td>\n",
       "      <td>0</td>\n",
       "      <td>0</td>\n",
       "      <td>0</td>\n",
       "      <td>...</td>\n",
       "      <td>0</td>\n",
       "      <td>0</td>\n",
       "      <td>0</td>\n",
       "      <td>0</td>\n",
       "      <td>1</td>\n",
       "      <td>0</td>\n",
       "      <td>0</td>\n",
       "      <td>0</td>\n",
       "      <td>0</td>\n",
       "      <td>1</td>\n",
       "    </tr>\n",
       "    <tr>\n",
       "      <th>641</th>\n",
       "      <td>77.0</td>\n",
       "      <td>female</td>\n",
       "      <td>0</td>\n",
       "      <td>1</td>\n",
       "      <td>0</td>\n",
       "      <td>0</td>\n",
       "      <td>0</td>\n",
       "      <td>0</td>\n",
       "      <td>0</td>\n",
       "      <td>0</td>\n",
       "      <td>...</td>\n",
       "      <td>0</td>\n",
       "      <td>0</td>\n",
       "      <td>0</td>\n",
       "      <td>0</td>\n",
       "      <td>0</td>\n",
       "      <td>0</td>\n",
       "      <td>1</td>\n",
       "      <td>0</td>\n",
       "      <td>0</td>\n",
       "      <td>1</td>\n",
       "    </tr>\n",
       "  </tbody>\n",
       "</table>\n",
       "<p>642 rows × 35 columns</p>\n",
       "</div>"
      ],
      "text/plain": [
       "      age  gender  acute respiratory distress  asymptomatic  cold chills  \\\n",
       "0    43.0    male                           0             1            0   \n",
       "1    48.0  female                           0             1            0   \n",
       "2    58.0  female                           0             1            0   \n",
       "3    46.0    male                           0             0            0   \n",
       "4    70.0    male                           0             1            0   \n",
       "..    ...     ...                         ...           ...          ...   \n",
       "637  70.0    male                           0             0            0   \n",
       "638  47.0  female                           0             1            0   \n",
       "639  65.0    male                           1             0            0   \n",
       "640  57.0    male                           0             0            0   \n",
       "641  77.0  female                           0             1            0   \n",
       "\n",
       "     cough  diarrhea  fatigue  fever  headache  ...  dyslipidemia  \\\n",
       "0        0         0        0      0         0  ...             0   \n",
       "1        0         0        0      0         0  ...             0   \n",
       "2        0         0        0      0         0  ...             0   \n",
       "3        0         0        0      1         0  ...             0   \n",
       "4        0         0        0      0         0  ...             0   \n",
       "..     ...       ...      ...    ...       ...  ...           ...   \n",
       "637      0         0        0      0         0  ...             0   \n",
       "638      0         0        0      0         0  ...             0   \n",
       "639      0         0        0      0         0  ...             0   \n",
       "640      0         0        0      0         0  ...             0   \n",
       "641      0         0        0      0         0  ...             0   \n",
       "\n",
       "     enlarged prostate  heart disease  hepatitis B  hypertension  \\\n",
       "0                    0              0            0             0   \n",
       "1                    0              0            0             0   \n",
       "2                    0              0            0             0   \n",
       "3                    0              0            0             0   \n",
       "4                    0              0            0             0   \n",
       "..                 ...            ...          ...           ...   \n",
       "637                  0              0            0             0   \n",
       "638                  0              0            0             0   \n",
       "639                  0              0            0             1   \n",
       "640                  0              0            0             1   \n",
       "641                  0              0            0             0   \n",
       "\n",
       "     kidney disease  none  parkinson's disease  thyroid disease  didDie  \n",
       "0                 0     1                    0                0       0  \n",
       "1                 0     1                    0                0       0  \n",
       "2                 0     1                    0                0       0  \n",
       "3                 0     1                    0                0       0  \n",
       "4                 0     1                    0                0       0  \n",
       "..              ...   ...                  ...              ...     ...  \n",
       "637               0     0                    0                0       0  \n",
       "638               0     1                    0                0       0  \n",
       "639               1     0                    0                0       1  \n",
       "640               0     0                    0                0       1  \n",
       "641               0     1                    0                0       1  \n",
       "\n",
       "[642 rows x 35 columns]"
      ]
     },
     "execution_count": 2,
     "metadata": {},
     "output_type": "execute_result"
    }
   ],
   "source": [
    "symptom_cd_dummies = pd.read_csv('symptom_cd_dummies.csv')\n",
    "del symptom_cd_dummies['Unnamed: 0']\n",
    "symptom_cd_dummies"
   ]
  },
  {
   "cell_type": "code",
   "execution_count": 3,
   "metadata": {},
   "outputs": [],
   "source": [
    "#DATA PREPROCESSING"
   ]
  },
  {
   "cell_type": "code",
   "execution_count": 4,
   "metadata": {},
   "outputs": [],
   "source": [
    "#CHANGE VALUES IN THE gender COLUMN TO BINARY SO IT CAN BE USED IN LINEAR REG TO PREDICT MISSING AGE VALUES\n",
    "#maleFemale = {'male': 1, 'female': 0}\n",
    "#symptom_cd_dummies.gender = [maleFemale[item] for item in symptom_cd_dummies.gender]"
   ]
  },
  {
   "cell_type": "code",
   "execution_count": 5,
   "metadata": {
    "scrolled": true
   },
   "outputs": [],
   "source": [
    "x = symptom_cd_dummies.iloc[:, :-1].values\n",
    "y = symptom_cd_dummies.iloc[:, -1].values\n",
    "\n",
    "#LABEL ENCODE THE GENDER COLUMN\n",
    "le = LabelEncoder()\n",
    "x[:, 1] = le.fit_transform(x[:, 1])\n",
    "#x[:,0]"
   ]
  },
  {
   "cell_type": "code",
   "execution_count": 6,
   "metadata": {},
   "outputs": [
    {
     "data": {
      "text/plain": [
       "array([[43.,  1.,  0., ...,  1.,  0.,  0.],\n",
       "       [48.,  0.,  0., ...,  1.,  0.,  0.],\n",
       "       [58.,  0.,  0., ...,  1.,  0.,  0.],\n",
       "       ...,\n",
       "       [65.,  1.,  1., ...,  0.,  0.,  0.],\n",
       "       [57.,  1.,  0., ...,  0.,  0.,  0.],\n",
       "       [77.,  0.,  0., ...,  1.,  0.,  0.]])"
      ]
     },
     "execution_count": 6,
     "metadata": {},
     "output_type": "execute_result"
    }
   ],
   "source": [
    "#IMPUTE MISSING VALUES IN THE AGE COLUMN\n",
    "imputer = KNNImputer(n_neighbors=2)\n",
    "\n",
    "x = imputer.fit_transform(x)\n",
    "\n",
    "x"
   ]
  },
  {
   "cell_type": "code",
   "execution_count": 7,
   "metadata": {},
   "outputs": [],
   "source": [
    "#SPLIT TRAIN AND TEST SET"
   ]
  },
  {
   "cell_type": "code",
   "execution_count": 8,
   "metadata": {},
   "outputs": [],
   "source": [
    "x_train, x_test, y_train, y_test = train_test_split(x, y, test_size = 0.2, random_state = 0)"
   ]
  },
  {
   "cell_type": "code",
   "execution_count": 9,
   "metadata": {},
   "outputs": [],
   "source": [
    "#FEATURE SCALING"
   ]
  },
  {
   "cell_type": "code",
   "execution_count": 10,
   "metadata": {},
   "outputs": [],
   "source": [
    "sc = StandardScaler()\n",
    "x_train = sc.fit_transform(x_train)\n",
    "x_test = sc.transform(x_test)"
   ]
  },
  {
   "cell_type": "code",
   "execution_count": 11,
   "metadata": {},
   "outputs": [],
   "source": [
    "#LOAD SAVED MODEL"
   ]
  },
  {
   "cell_type": "code",
   "execution_count": 12,
   "metadata": {},
   "outputs": [
    {
     "data": {
      "text/html": [
       "<div>\n",
       "<style scoped>\n",
       "    .dataframe tbody tr th:only-of-type {\n",
       "        vertical-align: middle;\n",
       "    }\n",
       "\n",
       "    .dataframe tbody tr th {\n",
       "        vertical-align: top;\n",
       "    }\n",
       "\n",
       "    .dataframe thead th {\n",
       "        text-align: right;\n",
       "    }\n",
       "</style>\n",
       "<table border=\"1\" class=\"dataframe\">\n",
       "  <thead>\n",
       "    <tr style=\"text-align: right;\">\n",
       "      <th></th>\n",
       "      <th>0</th>\n",
       "      <th>1</th>\n",
       "    </tr>\n",
       "  </thead>\n",
       "  <tbody>\n",
       "    <tr>\n",
       "      <th>0</th>\n",
       "      <td>0</td>\n",
       "      <td>0</td>\n",
       "    </tr>\n",
       "    <tr>\n",
       "      <th>1</th>\n",
       "      <td>0</td>\n",
       "      <td>0</td>\n",
       "    </tr>\n",
       "    <tr>\n",
       "      <th>2</th>\n",
       "      <td>0</td>\n",
       "      <td>0</td>\n",
       "    </tr>\n",
       "    <tr>\n",
       "      <th>3</th>\n",
       "      <td>0</td>\n",
       "      <td>0</td>\n",
       "    </tr>\n",
       "    <tr>\n",
       "      <th>4</th>\n",
       "      <td>0</td>\n",
       "      <td>0</td>\n",
       "    </tr>\n",
       "  </tbody>\n",
       "</table>\n",
       "</div>"
      ],
      "text/plain": [
       "   0  1\n",
       "0  0  0\n",
       "1  0  0\n",
       "2  0  0\n",
       "3  0  0\n",
       "4  0  0"
      ]
     },
     "execution_count": 12,
     "metadata": {},
     "output_type": "execute_result"
    }
   ],
   "source": [
    "#LOAD JSON AND CREATE MODEL\n",
    "json_file = open('model.json', 'r')\n",
    "loaded_model_from_json = json_file.read()\n",
    "json_file.close()\n",
    "loaded_model = model_from_json(loaded_model_from_json)\n",
    "\n",
    "#LOAD WEIGHTS INTO NEW MODEL\n",
    "loaded_model.load_weights(\"model.h5\")\n",
    "\n",
    "#EVALUATE LOADED MODEL ON TEST DATA\n",
    "loaded_model.compile(loss='binary_crossentropy', optimizer='adam', metrics=['accuracy'])\n",
    "\n",
    "y_pred = loaded_model.predict(x_test)\n",
    "y_pred = (y_pred > 0.5)\n",
    "compare = pd.DataFrame(np.concatenate((y_pred.reshape(len(y_pred),1), y_test.reshape(len(y_test),1)),1))\n",
    "compare.head()"
   ]
  },
  {
   "cell_type": "code",
   "execution_count": 13,
   "metadata": {},
   "outputs": [],
   "source": [
    "#CONFUSION MATRIX"
   ]
  },
  {
   "cell_type": "code",
   "execution_count": 14,
   "metadata": {},
   "outputs": [
    {
     "name": "stdout",
     "output_type": "stream",
     "text": [
      "[[79  7]\n",
      " [14 29]]\n"
     ]
    },
    {
     "data": {
      "text/plain": [
       "0.8372093023255814"
      ]
     },
     "execution_count": 14,
     "metadata": {},
     "output_type": "execute_result"
    }
   ],
   "source": [
    "cm = confusion_matrix(y_test, y_pred)\n",
    "print(cm)\n",
    "accuracy_score(y_test, y_pred)"
   ]
  },
  {
   "cell_type": "code",
   "execution_count": 15,
   "metadata": {},
   "outputs": [
    {
     "name": "stdout",
     "output_type": "stream",
     "text": [
      "[[False]]\n",
      "[[0.12076379]]\n"
     ]
    }
   ],
   "source": [
    "#PREDICTING THE OUTCOME OF A 65y/o MALE PATIENT WITH COPD\n",
    "print(loaded_model.predict(sc.transform([[65,1,0,0,0,0,0,0,0,0,0,0,0,0,0,0,0,0,1,0,0,0,0,0,0,0,0,0,0,0,0,0,0,0]])) > 0.5)\n",
    "print(loaded_model.predict(sc.transform([[65,1,0,0,0,0,0,0,0,0,0,0,0,0,0,0,0,0,1,0,0,0,0,0,0,0,0,0,0,0,0,0,0,0]])))"
   ]
  },
  {
   "cell_type": "markdown",
   "metadata": {},
   "source": [
    "## Making a program that allows users to make predictions on a per patient basis based on input"
   ]
  },
  {
   "cell_type": "code",
   "execution_count": 16,
   "metadata": {},
   "outputs": [
    {
     "data": {
      "text/markdown": [
       "### Demographics:"
      ],
      "text/plain": [
       "<IPython.core.display.Markdown object>"
      ]
     },
     "metadata": {},
     "output_type": "display_data"
    },
    {
     "name": "stdout",
     "output_type": "stream",
     "text": [
      "PROMPT 1: What is the patient's age? \n",
      "-\n",
      "3\n",
      "\n",
      "PROMPT 2: What is the patient's sex? (write 'male' or 'female')\n",
      "-\n",
      "male\n"
     ]
    },
    {
     "data": {
      "text/markdown": [
       "### Health Profile:"
      ],
      "text/plain": [
       "<IPython.core.display.Markdown object>"
      ]
     },
     "metadata": {},
     "output_type": "display_data"
    },
    {
     "data": {
      "text/markdown": [
       "#### Symptoms:"
      ],
      "text/plain": [
       "<IPython.core.display.Markdown object>"
      ]
     },
     "metadata": {},
     "output_type": "display_data"
    },
    {
     "name": "stdout",
     "output_type": "stream",
     "text": [
      "2. acute respiratory distress   3. asymptomatic   4. cold chills   5. cough\n",
      "6. diarrhea   7. fatigue   8. fever.  9.headache.  10. malaise\n",
      "11. muscle soreness   12. pneumonia   13. runny nose   14. septic shock   15. shortness of breath\n",
      "16. sore throat\n"
     ]
    },
    {
     "data": {
      "text/markdown": [
       "#### Pre-existing Conditions:"
      ],
      "text/plain": [
       "<IPython.core.display.Markdown object>"
      ]
     },
     "metadata": {},
     "output_type": "display_data"
    },
    {
     "name": "stdout",
     "output_type": "stream",
     "text": [
      "17. tuberculosis   18.COPD   19.asthma   20. atherosclerosis   21. Cancer   22. cerebrovascular disease\n",
      "23. chronic bronchitis  24. diabetes   25. dyslipidemia   26. enlarged prostate   27. heart disease\n",
      "28. Hepatitis B   29. hypertension   30. kidney disease.  31. none   32. parkinson's disease.  33. thyroid disease\n",
      "\n",
      "\n",
      "PROMPT 3: Enter the number next to the patient's corresponding symptoms, and/or pre-existing conditions as listed, \n",
      "separated by a space:\n",
      "\n",
      "3\n",
      "\u001b[4m\n",
      "Predicted probability of mortality:\u001b[0m\n",
      "0.005161185\n",
      "\u001b[1m1.0 %\n",
      "\u001b[0m\n",
      "\u001b[4mFatal infection prediction:\u001b[0m\n",
      "\u001b[1mFalse\u001b[0m\n",
      "Our model predicts that a fatal infection is not likely for this patient\n",
      "\u001b[92mLOW RISK\u001b[0m\n"
     ]
    }
   ],
   "source": [
    "from IPython.display import display, Markdown\n",
    "\n",
    "#INITIALIZE LIST TO HOLD MATRIX OF FEATURES\n",
    "mylist = list(range(34))\n",
    "\n",
    "#INPUT PATIENT AGE AND GENDER\n",
    "display(Markdown(\"### Demographics:\"))\n",
    "age = int(input(\"PROMPT 1: What is the patient's age? \\n-\\n\"))\n",
    "gender = input(\"\\nPROMPT 2: What is the patient's sex? (write 'male' or 'female')\\n-\\n\")\n",
    "genderNum = 1 if gender=='male' else 0\n",
    "\n",
    "#PROMPT USER INPUT OF SYMPTOMS\n",
    "display(Markdown(\"### Health Profile:\"))\n",
    "display(Markdown(\"#### Symptoms:\"))\n",
    "print(\"2. acute respiratory distress   3. asymptomatic   4. cold chills   5. cough\\n6. diarrhea   7. fatigue   8. fever.  9.headache.  10. malaise\\n11. muscle soreness   12. pneumonia   13. runny nose   14. septic shock   15. shortness of breath\\n16. sore throat\")\n",
    "\n",
    "#PROMPT USER INPUT OF PRE-EXISTING CONDITIONS\n",
    "display(Markdown(\"#### Pre-existing Conditions:\"))\n",
    "print(\"17. tuberculosis   18.COPD   19.asthma   20. atherosclerosis   21. Cancer   22. cerebrovascular disease\\n23. chronic bronchitis  24. diabetes   25. dyslipidemia   26. enlarged prostate   27. heart disease\\n28. Hepatitis B   29. hypertension   30. kidney disease.  31. none   32. parkinson's disease.  33. thyroid disease\\n\")\n",
    "\n",
    "symptoms = [int(x) for x in input(\"\\nPROMPT 3: Enter the number next to the patient's corresponding symptoms, and/or pre-existing conditions as listed, \\nseparated by a space:\\n\\n\").split()]\n",
    "mylist2 = [1 if int(el)==int(el) in symptoms else 0 for el in mylist]\n",
    "  \n",
    "\n",
    "mylist2[0] = age\n",
    "mylist2[1] = genderNum\n",
    "\n",
    "#RETURN THE PROBABILITY PREDICTION\n",
    "probability = loaded_model.predict(sc.transform([mylist2]))\n",
    "probabilityPercent = probability.round(2)\n",
    "\n",
    "#RETURN THE PREDICTION IN FORM OF TRUE/FALSE\n",
    "hardPrediction = probability>0.5\n",
    "\n",
    "#RETURN THE 'TRUE/FALSE' VALUE OF 'hardPredction' WITHOUT THE BRACKETS\n",
    "hardPrediction = ''.join(map(str, hardPrediction[0]))\n",
    "\n",
    "class color:\n",
    "   BOLD = '\\033[1m'\n",
    "   RED = '\\033[91m'\n",
    "   GREEN = '\\033[92m'\n",
    "   UNDERLINE = '\\033[4m'\n",
    "   END = '\\033[0m'\n",
    "\n",
    "def final_prediction(finalResult):\n",
    "    if (probability > 0.5):\n",
    "        print(color.BOLD + hardPrediction + color.END)\n",
    "        print(\"Our model predicts that a fatal infection is likely for this patient\")\n",
    "        print(color.RED + \"HIGH RISK\" + color.END)\n",
    "    else:\n",
    "        print(color.BOLD + hardPrediction + color.END)\n",
    "        print(\"Our model predicts that a fatal infection is not likely for this patient\")\n",
    "        print(color.GREEN + \"LOW RISK\" + color.END)     \n",
    "\n",
    "print(color.UNDERLINE + \"\\nPredicted probability of mortality:\" + color.END)\n",
    "print(*probability[0])\n",
    "print(color.BOLD + \"{0} %\\n\".format(*probabilityPercent[0]*100) + color.END)\n",
    "print(color.UNDERLINE + \"Fatal infection prediction:\" + color.END)\n",
    "final_prediction(hardPrediction)\n"
   ]
  },
  {
   "cell_type": "code",
   "execution_count": 22,
   "metadata": {},
   "outputs": [
    {
     "data": {
      "text/markdown": [
       "### Demographics:"
      ],
      "text/plain": [
       "<IPython.core.display.Markdown object>"
      ]
     },
     "metadata": {},
     "output_type": "display_data"
    },
    {
     "name": "stdout",
     "output_type": "stream",
     "text": [
      "PROMPT 1: What is the patient's age? \n",
      "-\n",
      "24\n",
      "\n",
      "PROMPT 2: What is the patient's sex? (write 'male' or 'female')\n",
      "-\n",
      "male\n"
     ]
    },
    {
     "data": {
      "text/markdown": [
       "### Health Profile:"
      ],
      "text/plain": [
       "<IPython.core.display.Markdown object>"
      ]
     },
     "metadata": {},
     "output_type": "display_data"
    },
    {
     "data": {
      "text/markdown": [
       "#### Symptoms:"
      ],
      "text/plain": [
       "<IPython.core.display.Markdown object>"
      ]
     },
     "metadata": {},
     "output_type": "display_data"
    },
    {
     "name": "stdout",
     "output_type": "stream",
     "text": [
      "2. acute respiratory distress   3. asymptomatic   4. cold chills   5. cough\n",
      "6. diarrhea   7. fatigue   8. fever.  9.headache.  10. malaise\n",
      "11. muscle soreness   12. pneumonia   13. runny nose   14. septic shock   15. shortness of breath\n",
      "16. sore throat\n"
     ]
    },
    {
     "data": {
      "text/markdown": [
       "#### Pre-existing Conditions:"
      ],
      "text/plain": [
       "<IPython.core.display.Markdown object>"
      ]
     },
     "metadata": {},
     "output_type": "display_data"
    },
    {
     "name": "stdout",
     "output_type": "stream",
     "text": [
      "17. tuberculosis   18.COPD   19.asthma   20. atherosclerosis   21. Cancer   22. cerebrovascular disease\n",
      "23. chronic bronchitis  24. diabetes   25. dyslipidemia   26. enlarged prostate   27. heart disease\n",
      "28. Hepatitis B   29. hypertension   30. kidney disease.  31. none   32. parkinson's disease.  33. thyroid disease\n",
      "\n",
      "\n",
      "PROMPT 3: Enter the number next to the patient's corresponding symptoms, and/or pre-existing conditions as listed, \n",
      "separated by a space:\n",
      "\n",
      "2 24\n",
      "\u001b[4m\n",
      "Predicted probability of mortality:\u001b[0m\n",
      "0.7956117\n",
      "\u001b[1m80.0 %\n",
      "\u001b[0m\n",
      "\u001b[4mFatal infection prediction:\u001b[0m\n",
      "\u001b[1mTrue\u001b[0m\n",
      "Our model predicts that a fatal infection is likely for this patient\n",
      "\u001b[91mHIGH RISK\u001b[0m\n",
      "\n",
      "Enter new patient info? (y/n): n\n",
      "Thank you.\n"
     ]
    }
   ],
   "source": [
    "#INITIALIZE LIST TO HOLD MATRIX OF FEATURES\n",
    "mylist = list(range(34))\n",
    "\n",
    "\n",
    "\n",
    "class color:\n",
    "   BOLD = '\\033[1m'\n",
    "   RED = '\\033[91m'\n",
    "   GREEN = '\\033[92m'\n",
    "   UNDERLINE = '\\033[4m'\n",
    "   END = '\\033[0m'\n",
    "\n",
    "\n",
    "while True:\n",
    "    \n",
    "    try:\n",
    "        #INPUT PATIENT AGE AND GENDER\n",
    "        display(Markdown(\"### Demographics:\"))\n",
    "        age = int(input(\"PROMPT 1: What is the patient's age? \\n-\\n\"))\n",
    "    except ValueError:\n",
    "        print('invalid input, please enter a number.')\n",
    "        continue\n",
    "    else:\n",
    "        \n",
    "        while True:\n",
    "            gender = input(\"\\nPROMPT 2: What is the patient's sex? (write 'male' or 'female')\\n-\\n\")\n",
    "            genderNum = 1 if gender=='male' else 0\n",
    "\n",
    "            if gender not in ('male', 'female'):\n",
    "                print('invalid input, please write \"male\" or \"female\".')\n",
    "                continue\n",
    "            else:\n",
    "                \n",
    "                while True:\n",
    "                    #PROMPT USER INPUT OF SYMPTOMS\n",
    "                    display(Markdown(\"### Health Profile:\"))\n",
    "                    display(Markdown(\"#### Symptoms:\"))\n",
    "                    print(\"2. acute respiratory distress   3. asymptomatic   4. cold chills   5. cough\\n6. diarrhea   7. fatigue   8. fever.  9.headache.  10. malaise\\n11. muscle soreness   12. pneumonia   13. runny nose   14. septic shock   15. shortness of breath\\n16. sore throat\")\n",
    "\n",
    "                    #PROMPT USER INPUT OF PRE-EXISTING CONDITIONS\n",
    "                    display(Markdown(\"#### Pre-existing Conditions:\"))\n",
    "                    print(\"17. tuberculosis   18.COPD   19.asthma   20. atherosclerosis   21. Cancer   22. cerebrovascular disease\\n23. chronic bronchitis  24. diabetes   25. dyslipidemia   26. enlarged prostate   27. heart disease\\n28. Hepatitis B   29. hypertension   30. kidney disease.  31. none   32. parkinson's disease.  33. thyroid disease\\n\")\n",
    "                    \n",
    "                    try:\n",
    "                        symptoms = list(map(int,input(\"\\nPROMPT 3: Enter the number next to the patient's corresponding symptoms, and/or pre-existing conditions as listed, \\nseparated by a space:\\n\\n\").split()))\n",
    "                        mylist2 = [1 if int(el)==int(el) in symptoms else 0 for el in mylist]\n",
    "                    except ValueError:\n",
    "                        print('invalid, please enter a number')\n",
    "                        continue\n",
    "                    else:\n",
    "                        \n",
    "                        mylist2[0] = age\n",
    "                        mylist2[1] = genderNum\n",
    "\n",
    "                        #RETURN THE PROBABILITY PREDICTION\n",
    "                        probability = loaded_model.predict(sc.transform([mylist2]))\n",
    "                        probabilityPercent = probability.round(2)\n",
    "\n",
    "                        #RETURN THE PREDICTION IN FORM OF TRUE/FALSE\n",
    "                        hardPrediction = probability>0.5\n",
    "\n",
    "                        #RETURN THE 'TRUE/FALSE' VALUE OF 'hardPredction' WITHOUT THE BRACKETS\n",
    "                        hardPrediction = ''.join(map(str, hardPrediction[0]))\n",
    "\n",
    "                        print(color.UNDERLINE + \"\\nPredicted probability of mortality:\" + color.END)\n",
    "                        print(*probability[0])\n",
    "                        print(color.BOLD + \"{0} %\\n\".format(*probabilityPercent[0]*100) + color.END)\n",
    "                        print(color.UNDERLINE + \"Fatal infection prediction:\" + color.END)\n",
    "\n",
    "                        if (probability > 0.5):\n",
    "                            print(color.BOLD + hardPrediction + color.END)\n",
    "                            print(\"Our model predicts that a fatal infection is likely for this patient\")\n",
    "                            print(color.RED + \"HIGH RISK\" + color.END)\n",
    "                        else:\n",
    "                            print(color.BOLD + hardPrediction + color.END)\n",
    "                            print(\"Our model predicts that a fatal infection is not likely for this patient\")\n",
    "                            print(color.GREEN + \"LOW RISK\" + color.END)\n",
    "                        break\n",
    "                break\n",
    "                    \n",
    "    again = input('\\nEnter new patient info? (y/n): ')\n",
    "    if again not in ('y', 'n'):\n",
    "        print('Invalid input, please type \"y\" or \"n\".')\n",
    "        continue\n",
    "    elif again == 'y':\n",
    "        continue\n",
    "    else:\n",
    "        print('Thank you.')\n",
    "        break\n",
    "    break"
   ]
  },
  {
   "cell_type": "code",
   "execution_count": 24,
   "metadata": {},
   "outputs": [],
   "source": [
    "#mylist2"
   ]
  }
 ],
 "metadata": {
  "kernelspec": {
   "display_name": "Python 3",
   "language": "python",
   "name": "python3"
  },
  "language_info": {
   "codemirror_mode": {
    "name": "ipython",
    "version": 3
   },
   "file_extension": ".py",
   "mimetype": "text/x-python",
   "name": "python",
   "nbconvert_exporter": "python",
   "pygments_lexer": "ipython3",
   "version": "3.7.1"
  }
 },
 "nbformat": 4,
 "nbformat_minor": 2
}
