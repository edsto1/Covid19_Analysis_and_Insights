{
 "cells": [
  {
   "cell_type": "code",
   "execution_count": 1,
   "metadata": {},
   "outputs": [],
   "source": [
    "import tensorflow as tf\n",
    "import numpy as np\n",
    "import pandas as pd\n",
    "from sklearn.preprocessing import LabelEncoder, OneHotEncoder, StandardScaler, MultiLabelBinarizer\n",
    "from sklearn.compose import ColumnTransformer\n",
    "from sklearn.model_selection import train_test_split\n",
    "import re\n",
    "import time\n",
    "from sklearn.linear_model import LinearRegression\n",
    "from fancyimpute import IterativeImputer\n",
    "from sklearn.neighbors import NearestNeighbors\n",
    "from sklearn.impute import KNNImputer\n",
    "from sklearn.metrics import confusion_matrix, accuracy_score\n",
    "import appmode\n",
    "from keras.models import model_from_json\n",
    "from IPython.display import display, Markdown"
   ]
  },
  {
   "cell_type": "code",
   "execution_count": 2,
   "metadata": {},
   "outputs": [],
   "source": [
    "symptom_cd_dummies = pd.read_csv('./files/symptom_cd_dummies.csv')\n",
    "del symptom_cd_dummies['Unnamed: 0']\n",
    "#symptom_cd_dummies"
   ]
  },
  {
   "cell_type": "code",
   "execution_count": 3,
   "metadata": {},
   "outputs": [],
   "source": [
    "#DATA PREPROCESSING"
   ]
  },
  {
   "cell_type": "code",
   "execution_count": 4,
   "metadata": {},
   "outputs": [],
   "source": [
    "#CHANGE VALUES IN THE gender COLUMN TO BINARY SO IT CAN BE USED IN LINEAR REG TO PREDICT MISSING AGE VALUES\n",
    "#maleFemale = {'male': 1, 'female': 0}\n",
    "#symptom_cd_dummies.gender = [maleFemale[item] for item in symptom_cd_dummies.gender]"
   ]
  },
  {
   "cell_type": "code",
   "execution_count": 5,
   "metadata": {
    "scrolled": true
   },
   "outputs": [],
   "source": [
    "x = symptom_cd_dummies.iloc[:, :-1].values\n",
    "y = symptom_cd_dummies.iloc[:, -1].values\n",
    "\n",
    "#LABEL ENCODE THE GENDER COLUMN\n",
    "le = LabelEncoder()\n",
    "x[:, 1] = le.fit_transform(x[:, 1])\n",
    "#x[:,0]"
   ]
  },
  {
   "cell_type": "code",
   "execution_count": 6,
   "metadata": {},
   "outputs": [],
   "source": [
    "#IMPUTE MISSING VALUES IN THE AGE COLUMN\n",
    "imputer = KNNImputer(n_neighbors=2)\n",
    "\n",
    "x = imputer.fit_transform(x)"
   ]
  },
  {
   "cell_type": "code",
   "execution_count": 7,
   "metadata": {},
   "outputs": [],
   "source": [
    "#SPLIT TRAIN AND TEST SET"
   ]
  },
  {
   "cell_type": "code",
   "execution_count": 8,
   "metadata": {},
   "outputs": [],
   "source": [
    "x_train, x_test, y_train, y_test = train_test_split(x, y, test_size = 0.2, random_state = 0)"
   ]
  },
  {
   "cell_type": "code",
   "execution_count": 9,
   "metadata": {},
   "outputs": [],
   "source": [
    "#FEATURE SCALING"
   ]
  },
  {
   "cell_type": "code",
   "execution_count": 10,
   "metadata": {},
   "outputs": [],
   "source": [
    "sc = StandardScaler()\n",
    "x_train = sc.fit_transform(x_train)\n",
    "x_test = sc.transform(x_test)"
   ]
  },
  {
   "cell_type": "code",
   "execution_count": 11,
   "metadata": {},
   "outputs": [],
   "source": [
    "#LOAD SAVED MODEL"
   ]
  },
  {
   "cell_type": "code",
   "execution_count": 12,
   "metadata": {},
   "outputs": [],
   "source": [
    "#LOAD JSON AND CREATE MODEL\n",
    "json_file = open('./files/model.json', 'r')\n",
    "loaded_model_from_json = json_file.read()\n",
    "json_file.close()\n",
    "loaded_model = model_from_json(loaded_model_from_json)\n",
    "\n",
    "#LOAD WEIGHTS INTO NEW MODEL\n",
    "loaded_model.load_weights(\"./files/model.h5\")\n",
    "\n",
    "#EVALUATE LOADED MODEL ON TEST DATA\n",
    "loaded_model.compile(loss='binary_crossentropy', optimizer='adam', metrics=['accuracy'])\n",
    "\n",
    "y_pred = loaded_model.predict(x_test)\n",
    "y_pred = (y_pred > 0.5)\n",
    "compare = pd.DataFrame(np.concatenate((y_pred.reshape(len(y_pred),1), y_test.reshape(len(y_test),1)),1))\n",
    "#compare.head()"
   ]
  },
  {
   "cell_type": "code",
   "execution_count": 13,
   "metadata": {},
   "outputs": [
    {
     "name": "stdout",
     "output_type": "stream",
     "text": [
      "Current Accuracy: 0.8682170542635659\n"
     ]
    }
   ],
   "source": [
    "#CONFUSION MATRIX\n",
    "cm = confusion_matrix(y_test, y_pred)\n",
    "#print(cm)\n",
    "print(f\"Current Accuracy: {accuracy_score(y_test, y_pred)}\")\n"
   ]
  },
  {
   "cell_type": "markdown",
   "metadata": {},
   "source": [
    "# Covid19 Patient Outcomes Predictive Model"
   ]
  },
  {
   "cell_type": "markdown",
   "metadata": {},
   "source": [
    "This application uses an Artificial Neural Network machine learning model to predict the fatality risk of Covid19 infections using a patient's demographic and health profile, based on a limited dataset of patients from several countries. This is being shared strictly for observational purposes.<br>\n",
    "* __*PLEASE NOTE__: This program is ***_NOT_*** intended to diagnose or treat any health conditions. Results are merely calculated predictions and are ***_NOT_*** meant to stand in place of professional medical advice or testing. ***_PLEASE_*** seek medical help if you feel ill."
   ]
  },
  {
   "cell_type": "markdown",
   "metadata": {},
   "source": [
    "## Make a New Prediction:\n",
    "(Press \"enter/return\" on keyboard to submit asnwers)<br>\n",
    "*Please allow a few seconds to load..."
   ]
  },
  {
   "cell_type": "code",
   "execution_count": 16,
   "metadata": {},
   "outputs": [
    {
     "data": {
      "text/markdown": [
       "### Demographics:"
      ],
      "text/plain": [
       "<IPython.core.display.Markdown object>"
      ]
     },
     "metadata": {},
     "output_type": "display_data"
    },
    {
     "name": "stdout",
     "output_type": "stream",
     "text": [
      "PROMPT 1: WHAT IS THE PATIENT'S AGE? \n",
      "-\n",
      "66\n",
      "\n",
      "PROMPT 2: WHAT IS THE PATIENT'S SEX? (write 'male' or 'female')\n",
      "-\n",
      "female\n"
     ]
    },
    {
     "data": {
      "text/markdown": [
       "### Health Profile:"
      ],
      "text/plain": [
       "<IPython.core.display.Markdown object>"
      ]
     },
     "metadata": {},
     "output_type": "display_data"
    },
    {
     "data": {
      "text/markdown": [
       "#### Symptoms:"
      ],
      "text/plain": [
       "<IPython.core.display.Markdown object>"
      ]
     },
     "metadata": {},
     "output_type": "display_data"
    },
    {
     "name": "stdout",
     "output_type": "stream",
     "text": [
      "2. acute respiratory distress   3. asymptomatic   4. cold chills   5. cough\n",
      "6. diarrhea   7. fatigue   8. fever.  9.headache.  10. malaise\n",
      "11. muscle soreness   12. pneumonia   13. runny nose   14. septic shock   15. shortness of breath\n",
      "16. sore throat\n",
      "\n",
      "PROMPT 3: USING THE ITEMS LISTED ABOVE, ENTER THE NUMBERS  THAT CORRESPOND TO THE PATIENT'S SYMPTOMS, SEPARATED BY A COMMA. (example: 5,19 for a patient with a cough and asthma). \n",
      "*Enter 3 if no symptoms:\n",
      "\n",
      "6\n"
     ]
    },
    {
     "data": {
      "text/markdown": [
       "#### Pre-existing Conditions:"
      ],
      "text/plain": [
       "<IPython.core.display.Markdown object>"
      ]
     },
     "metadata": {},
     "output_type": "display_data"
    },
    {
     "name": "stdout",
     "output_type": "stream",
     "text": [
      "17. tuberculosis   18.COPD   19.asthma   20. atherosclerosis   21. Cancer   22. cerebrovascular disease\n",
      "23. chronic bronchitis  24. diabetes   25. dyslipidemia   26. enlarged prostate   27. heart disease\n",
      "28. Hepatitis B   29. hypertension   30. kidney disease.  31. none   32. parkinson's disease.  33. thyroid disease\n",
      "\n",
      "\n",
      "PROMPT 4: USING THE ITEMS LISTED ABOVE, ENTER THE NUMBERS  THAT CORRESPOND TO THE PATIENT'S PRE-EXISTING CONDITIONS, SEPARATED BY A COMMA.\n",
      "*Enter 31 if no pre-existing conditions:\n",
      "\n",
      "19\n",
      "\u001b[4m\n",
      "Predicted probability of mortality:\u001b[0m\n",
      "0.24938387\n",
      "\u001b[1m25.0 %\n",
      "\u001b[0m\n",
      "\u001b[4mFatal infection prediction:\u001b[0m\n",
      "\u001b[1mFalse\u001b[0m\n",
      "Our model predicts that a fatal infection is not likely for this patient\n",
      "\u001b[92m\u001b[1mLOW RISK\u001b[0m\n",
      "\n",
      "Enter new patient info? (y/n): n\n",
      "Thank You\n"
     ]
    }
   ],
   "source": [
    "#INITIALIZE LIST TO HOLD MATRIX OF FEATURES\n",
    "mylist = list(range(34))\n",
    "\n",
    "class color:\n",
    "   BOLD = '\\033[1m'\n",
    "   RED = '\\033[91m'\n",
    "   GREEN = '\\033[92m'\n",
    "   UNDERLINE = '\\033[4m'\n",
    "   END = '\\033[0m'\n",
    "\n",
    "\n",
    "while True:\n",
    "    \n",
    "    try:\n",
    "        #INPUT PATIENT AGE AND GENDER\n",
    "        display(Markdown(\"### Demographics:\"))\n",
    "        age = int(input(\"PROMPT 1: WHAT IS THE PATIENT'S AGE? \\n-\\n\"))\n",
    "    except ValueError:\n",
    "        print('invalid input, please enter a number.')\n",
    "        continue\n",
    "    else:\n",
    "        \n",
    "        while True:\n",
    "            gender = input(\"\\nPROMPT 2: WHAT IS THE PATIENT'S SEX? (write 'male' or 'female')\\n-\\n\")\n",
    "            genderNum = 1 if gender=='male' or gender=='Male' else 0\n",
    "\n",
    "            if gender not in ('male', 'female', 'Male', 'Female'):\n",
    "                print('invalid input, please write \"male\" or \"female\".')\n",
    "                continue\n",
    "            else:\n",
    "                \n",
    "                while True:\n",
    "                    #PROMPT USER INPUT OF SYMPTOMS\n",
    "                    display(Markdown(\"### Health Profile:\"))\n",
    "                    display(Markdown(\"#### Symptoms:\"))\n",
    "                    print(\"2. acute respiratory distress   3. asymptomatic   4. cold chills   5. cough\\n6. diarrhea   7. fatigue   8. fever.  9.headache.  10. malaise\\n11. muscle soreness   12. pneumonia   13. runny nose   14. septic shock   15. shortness of breath\\n16. sore throat\")\n",
    "                    \n",
    "                    \n",
    "                    while True:\n",
    "                        \n",
    "                        try:\n",
    "                            time.sleep(.80)\n",
    "                            symptoms = input(\"\\nPROMPT 3: USING THE ITEMS LISTED ABOVE, ENTER THE NUMBERS  THAT CORRESPOND TO THE PATIENT'S SYMPTOMS,\\nSEPARATED BY A COMMA. (example: 5,19 for a patient with a cough and asthma). \\n*Enter 3 if no symptoms:\\n\\n\").split(',')\n",
    "\n",
    "                            for i in range(0, len(symptoms)): \n",
    "                                symptoms[i] = int(symptoms[i])\n",
    "                                \n",
    "                            mylist2 = [1 if int(el)==int(el) in symptoms else 0 for el in mylist]\n",
    "                            \n",
    "                            #PROMPT USER INPUT OF PRE-EXISTING CONDITIONS\n",
    "                            display(Markdown(\"#### Pre-existing Conditions:\"))\n",
    "                            print(\"17. tuberculosis   18.COPD   19.asthma   20. atherosclerosis   21. Cancer   22. cerebrovascular disease\\n23. chronic bronchitis  24. diabetes   25. dyslipidemia   26. enlarged prostate   27. heart disease\\n28. Hepatitis B   29. hypertension   30. kidney disease.  31. none   32. parkinson's disease.  33. thyroid disease\\n\")\n",
    "                            \n",
    "\n",
    "                        except ValueError:\n",
    "                            print('invalid, please enter a number')\n",
    "                            continue\n",
    "                        \n",
    "                        else:\n",
    "                            \n",
    "                            while True:\n",
    "                                \n",
    "                                try:\n",
    "                                    time.sleep(.80)\n",
    "                                    chronic = input(\"\\nPROMPT 4: USING THE ITEMS LISTED ABOVE, ENTER THE NUMBERS  THAT CORRESPOND TO THE PATIENT'S PRE-EXISTING CONDITIONS,\\nSEPARATED BY A COMMA.\\n*Enter 31 if no pre-existing conditions:\\n\\n\").split(',')\n",
    "\n",
    "                                    for i in range(0, len(chronic)): \n",
    "                                        chronic[i] = int(chronic[i])\n",
    "\n",
    "                                    mylist3 = [1 if int(el)==int(el) in chronic else 0 for el in mylist]\n",
    "                                    merged=[int(any([x,y])) for x,y in zip(mylist2,mylist3) ]\n",
    "                                except ValueError:\n",
    "                                    print('invalid, please enter a number')\n",
    "                                    continue\n",
    "\n",
    "                                else:\n",
    "\n",
    "                                    merged[0] = age\n",
    "                                    merged[1] = genderNum\n",
    "\n",
    "                                    #RETURN THE PROBABILITY PREDICTION\n",
    "                                    probability = loaded_model.predict(sc.transform([merged]))\n",
    "                                    probabilityPercent = probability.round(2)\n",
    "\n",
    "                                    #RETURN THE PREDICTION IN FORM OF TRUE/FALSE\n",
    "                                    hardPrediction = probability>0.5\n",
    "\n",
    "                                    #RETURN THE 'TRUE/FALSE' VALUE OF 'hardPredction' WITHOUT THE BRACKETS\n",
    "                                    hardPrediction = ''.join(map(str, hardPrediction[0]))\n",
    "\n",
    "                                    print(color.UNDERLINE + \"\\nPredicted probability of mortality:\" + color.END)\n",
    "                                    print(*probability[0])\n",
    "                                    print(color.BOLD + \"{0} %\\n\".format(*probabilityPercent[0]*100) + color.END)\n",
    "                                    print(color.UNDERLINE + \"Fatal infection prediction:\" + color.END)\n",
    "\n",
    "                                    if (probability > 0.5):\n",
    "                                        print(color.BOLD + hardPrediction + color.END)\n",
    "                                        print(\"Our model predicts that a fatal infection is likely for this patient\")\n",
    "                                        print(color.RED + color.BOLD + \"HIGH RISK\" + color.END)\n",
    "                                    else:\n",
    "                                        print(color.BOLD + hardPrediction + color.END)\n",
    "                                        print(\"Our model predicts that a fatal infection is not likely for this patient\")\n",
    "                                        print(color.GREEN + color.BOLD + \"LOW RISK\" + color.END) \n",
    "                                break\n",
    "                        break\n",
    "                    break\n",
    "                break\n",
    "            \n",
    "    again = input('\\nEnter new patient info? (y/n): ')\n",
    "    if again not in ('y', 'n', 'Y', 'N', 'Yes', 'yes', 'No', 'no'):\n",
    "        print('Invalid input, please type \"y\" or \"n\".')\n",
    "        continue\n",
    "    elif again == 'y':\n",
    "        continue\n",
    "    else:\n",
    "        print(\"Thank You\")\n",
    "        break\n",
    "    break"
   ]
  },
  {
   "cell_type": "code",
   "execution_count": 15,
   "metadata": {},
   "outputs": [],
   "source": [
    "# import os\n",
    "# from notebook.services.config import ConfigManager\n",
    "\n",
    "# for p in ConfigManager().read_config_path:\n",
    "#     conf_path = os.path.join(p, 'notebook.json')\n",
    "#     if os.path.exists(conf_path):\n",
    "#         print(conf_path)"
   ]
  },
  {
   "cell_type": "code",
   "execution_count": null,
   "metadata": {},
   "outputs": [],
   "source": []
  }
 ],
 "metadata": {
  "kernelspec": {
   "display_name": "Python 3",
   "language": "python",
   "name": "python3"
  },
  "language_info": {
   "codemirror_mode": {
    "name": "ipython",
    "version": 3
   },
   "file_extension": ".py",
   "mimetype": "text/x-python",
   "name": "python",
   "nbconvert_exporter": "python",
   "pygments_lexer": "ipython3",
   "version": "3.7.1"
  }
 },
 "nbformat": 4,
 "nbformat_minor": 2
}
